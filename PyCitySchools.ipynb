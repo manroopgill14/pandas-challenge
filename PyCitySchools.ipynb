{
 "cells": [
  {
   "cell_type": "code",
   "execution_count": 1,
   "id": "059f7ce5",
   "metadata": {},
   "outputs": [],
   "source": [
    "# Dependencies and Setup\n",
    "import pandas as pd\n",
    "from pathlib import Path"
   ]
  },
  {
   "cell_type": "code",
   "execution_count": 2,
   "id": "379ab0db",
   "metadata": {},
   "outputs": [
    {
     "data": {
      "text/html": [
       "<div>\n",
       "<style scoped>\n",
       "    .dataframe tbody tr th:only-of-type {\n",
       "        vertical-align: middle;\n",
       "    }\n",
       "\n",
       "    .dataframe tbody tr th {\n",
       "        vertical-align: top;\n",
       "    }\n",
       "\n",
       "    .dataframe thead th {\n",
       "        text-align: right;\n",
       "    }\n",
       "</style>\n",
       "<table border=\"1\" class=\"dataframe\">\n",
       "  <thead>\n",
       "    <tr style=\"text-align: right;\">\n",
       "      <th></th>\n",
       "      <th>Student ID</th>\n",
       "      <th>student_name</th>\n",
       "      <th>gender</th>\n",
       "      <th>grade</th>\n",
       "      <th>school_name</th>\n",
       "      <th>reading_score</th>\n",
       "      <th>math_score</th>\n",
       "      <th>School ID</th>\n",
       "      <th>type</th>\n",
       "      <th>size</th>\n",
       "      <th>budget</th>\n",
       "    </tr>\n",
       "  </thead>\n",
       "  <tbody>\n",
       "    <tr>\n",
       "      <th>0</th>\n",
       "      <td>0</td>\n",
       "      <td>Paul Bradley</td>\n",
       "      <td>M</td>\n",
       "      <td>9th</td>\n",
       "      <td>Huang High School</td>\n",
       "      <td>66</td>\n",
       "      <td>79</td>\n",
       "      <td>0</td>\n",
       "      <td>District</td>\n",
       "      <td>2917</td>\n",
       "      <td>1910635</td>\n",
       "    </tr>\n",
       "    <tr>\n",
       "      <th>1</th>\n",
       "      <td>1</td>\n",
       "      <td>Victor Smith</td>\n",
       "      <td>M</td>\n",
       "      <td>12th</td>\n",
       "      <td>Huang High School</td>\n",
       "      <td>94</td>\n",
       "      <td>61</td>\n",
       "      <td>0</td>\n",
       "      <td>District</td>\n",
       "      <td>2917</td>\n",
       "      <td>1910635</td>\n",
       "    </tr>\n",
       "    <tr>\n",
       "      <th>2</th>\n",
       "      <td>2</td>\n",
       "      <td>Kevin Rodriguez</td>\n",
       "      <td>M</td>\n",
       "      <td>12th</td>\n",
       "      <td>Huang High School</td>\n",
       "      <td>90</td>\n",
       "      <td>60</td>\n",
       "      <td>0</td>\n",
       "      <td>District</td>\n",
       "      <td>2917</td>\n",
       "      <td>1910635</td>\n",
       "    </tr>\n",
       "    <tr>\n",
       "      <th>3</th>\n",
       "      <td>3</td>\n",
       "      <td>Dr. Richard Scott</td>\n",
       "      <td>M</td>\n",
       "      <td>12th</td>\n",
       "      <td>Huang High School</td>\n",
       "      <td>67</td>\n",
       "      <td>58</td>\n",
       "      <td>0</td>\n",
       "      <td>District</td>\n",
       "      <td>2917</td>\n",
       "      <td>1910635</td>\n",
       "    </tr>\n",
       "    <tr>\n",
       "      <th>4</th>\n",
       "      <td>4</td>\n",
       "      <td>Bonnie Ray</td>\n",
       "      <td>F</td>\n",
       "      <td>9th</td>\n",
       "      <td>Huang High School</td>\n",
       "      <td>97</td>\n",
       "      <td>84</td>\n",
       "      <td>0</td>\n",
       "      <td>District</td>\n",
       "      <td>2917</td>\n",
       "      <td>1910635</td>\n",
       "    </tr>\n",
       "  </tbody>\n",
       "</table>\n",
       "</div>"
      ],
      "text/plain": [
       "   Student ID       student_name gender grade        school_name  \\\n",
       "0           0       Paul Bradley      M   9th  Huang High School   \n",
       "1           1       Victor Smith      M  12th  Huang High School   \n",
       "2           2    Kevin Rodriguez      M  12th  Huang High School   \n",
       "3           3  Dr. Richard Scott      M  12th  Huang High School   \n",
       "4           4         Bonnie Ray      F   9th  Huang High School   \n",
       "\n",
       "   reading_score  math_score  School ID      type  size   budget  \n",
       "0             66          79          0  District  2917  1910635  \n",
       "1             94          61          0  District  2917  1910635  \n",
       "2             90          60          0  District  2917  1910635  \n",
       "3             67          58          0  District  2917  1910635  \n",
       "4             97          84          0  District  2917  1910635  "
      ]
     },
     "execution_count": 2,
     "metadata": {},
     "output_type": "execute_result"
    }
   ],
   "source": [
    "# File to Load (Remember to Change These)\n",
    "school_data_to_load = Path(\"Resources/schools_complete.csv\")\n",
    "student_data_to_load = Path(\"Resources/students_complete.csv\")\n",
    "\n",
    "# Read School and Student Data File and store into Pandas DataFrames\n",
    "school_data = pd.read_csv(school_data_to_load)\n",
    "student_data = pd.read_csv(student_data_to_load)\n",
    "\n",
    "school_data_complete = pd.merge(student_data, school_data, how=\"left\", on=[\"school_name\", \"school_name\"])\n",
    "school_data_complete.head()"
   ]
  },
  {
   "cell_type": "code",
   "execution_count": 3,
   "id": "488f6ec7",
   "metadata": {},
   "outputs": [
    {
     "data": {
      "text/plain": [
       "15"
      ]
     },
     "execution_count": 3,
     "metadata": {},
     "output_type": "execute_result"
    }
   ],
   "source": [
    "# Calculate the total number of unique schools\n",
    "school_count = school_data[\"school_name\"].count()\n",
    "school_count"
   ]
  },
  {
   "cell_type": "code",
   "execution_count": 4,
   "id": "4cc57e41",
   "metadata": {},
   "outputs": [
    {
     "data": {
      "text/plain": [
       "39170"
      ]
     },
     "execution_count": 4,
     "metadata": {},
     "output_type": "execute_result"
    }
   ],
   "source": [
    "# Calculate the total number of students\n",
    "student_count = school_data_complete[\"student_name\"].count()\n",
    "student_count"
   ]
  },
  {
   "cell_type": "code",
   "execution_count": 5,
   "id": "f43904a5",
   "metadata": {},
   "outputs": [
    {
     "data": {
      "text/plain": [
       "24649428"
      ]
     },
     "execution_count": 5,
     "metadata": {},
     "output_type": "execute_result"
    }
   ],
   "source": [
    "# Calculate the total budget\n",
    "total_budget = school_data[\"budget\"].sum()\n",
    "total_budget"
   ]
  },
  {
   "cell_type": "code",
   "execution_count": 6,
   "id": "2ae2b82c",
   "metadata": {},
   "outputs": [
    {
     "data": {
      "text/plain": [
       "78.98537145774827"
      ]
     },
     "execution_count": 6,
     "metadata": {},
     "output_type": "execute_result"
    }
   ],
   "source": [
    "# Calculate the average (mean) math score\n",
    "average_math_score = school_data_complete[\"math_score\"].mean()\n",
    "average_math_score"
   ]
  },
  {
   "cell_type": "code",
   "execution_count": 7,
   "id": "360c867e",
   "metadata": {},
   "outputs": [
    {
     "data": {
      "text/plain": [
       "81.87784018381414"
      ]
     },
     "execution_count": 7,
     "metadata": {},
     "output_type": "execute_result"
    }
   ],
   "source": [
    "# Calculate the average (mean) reading score\n",
    "average_reading_score = school_data_complete[\"reading_score\"].mean()\n",
    "average_reading_score"
   ]
  },
  {
   "cell_type": "code",
   "execution_count": 8,
   "id": "397307ee",
   "metadata": {},
   "outputs": [
    {
     "data": {
      "text/plain": [
       "74.9808526933878"
      ]
     },
     "execution_count": 8,
     "metadata": {},
     "output_type": "execute_result"
    }
   ],
   "source": [
    "# Use the following to calculate the percentage of students who passed math (math scores greather than or equal to 70)\n",
    "passing_math_count = school_data_complete[(school_data_complete[\"math_score\"] >= 70)].count()[\"student_name\"]\n",
    "passing_math_percentage = passing_math_count / float(student_count) * 100\n",
    "passing_math_percentage"
   ]
  },
  {
   "cell_type": "code",
   "execution_count": 9,
   "id": "e8781a63",
   "metadata": {},
   "outputs": [
    {
     "data": {
      "text/plain": [
       "85.80546336482001"
      ]
     },
     "execution_count": 9,
     "metadata": {},
     "output_type": "execute_result"
    }
   ],
   "source": [
    "# Calculate the percentage of students who passed reading (hint: look at how the math percentage was calculated)  \n",
    "passing_reading_count = school_data_complete[(school_data_complete[\"reading_score\"] >= 70)].count()[\"student_name\"]\n",
    "passing_reading_percentage = passing_reading_count / float(student_count) * 100\n",
    "passing_reading_percentage"
   ]
  },
  {
   "cell_type": "code",
   "execution_count": 10,
   "id": "21eaad14",
   "metadata": {},
   "outputs": [
    {
     "data": {
      "text/plain": [
       "65.17232575950983"
      ]
     },
     "execution_count": 10,
     "metadata": {},
     "output_type": "execute_result"
    }
   ],
   "source": [
    "# Use the following to calculate the percentage of students that passed math and reading\n",
    "passing_math_reading_count = school_data_complete[\n",
    "    (school_data_complete[\"math_score\"] >= 70) & (school_data_complete[\"reading_score\"] >= 70)\n",
    "].count()[\"student_name\"]\n",
    "overall_passing_rate = passing_math_reading_count /  float(student_count) * 100\n",
    "overall_passing_rate"
   ]
  },
  {
   "cell_type": "code",
   "execution_count": 11,
   "id": "2d7643f2",
   "metadata": {},
   "outputs": [
    {
     "data": {
      "text/html": [
       "<div>\n",
       "<style scoped>\n",
       "    .dataframe tbody tr th:only-of-type {\n",
       "        vertical-align: middle;\n",
       "    }\n",
       "\n",
       "    .dataframe tbody tr th {\n",
       "        vertical-align: top;\n",
       "    }\n",
       "\n",
       "    .dataframe thead th {\n",
       "        text-align: right;\n",
       "    }\n",
       "</style>\n",
       "<table border=\"1\" class=\"dataframe\">\n",
       "  <thead>\n",
       "    <tr style=\"text-align: right;\">\n",
       "      <th></th>\n",
       "      <th>Total Schools</th>\n",
       "      <th>Total Students</th>\n",
       "      <th>Total Budget</th>\n",
       "      <th>Average Math Score</th>\n",
       "      <th>Average Reading Score</th>\n",
       "      <th>% Passing Math</th>\n",
       "      <th>% Passing Reading</th>\n",
       "      <th>% Overall Passing</th>\n",
       "    </tr>\n",
       "  </thead>\n",
       "  <tbody>\n",
       "    <tr>\n",
       "      <th>0</th>\n",
       "      <td>15</td>\n",
       "      <td>39170</td>\n",
       "      <td>24649428</td>\n",
       "      <td>78.985371</td>\n",
       "      <td>81.87784</td>\n",
       "      <td>74.980853</td>\n",
       "      <td>85.805463</td>\n",
       "      <td>65.172326</td>\n",
       "    </tr>\n",
       "  </tbody>\n",
       "</table>\n",
       "</div>"
      ],
      "text/plain": [
       "   Total Schools  Total Students  Total Budget  Average Math Score  \\\n",
       "0             15           39170      24649428           78.985371   \n",
       "\n",
       "   Average Reading Score  % Passing Math  % Passing Reading  % Overall Passing  \n",
       "0               81.87784       74.980853          85.805463          65.172326  "
      ]
     },
     "execution_count": 11,
     "metadata": {},
     "output_type": "execute_result"
    }
   ],
   "source": [
    "# Create a high-level snapshot of the district's key metrics in a DataFrame\n",
    "district_summary =  {\"Total Schools\" : school_count,\n",
    "                   \"Total Students\" : student_count,\n",
    "                   \"Total Budget\" : total_budget,\n",
    "                   \"Average Math Score\" : average_math_score,\n",
    "                   \"Average Reading Score\" : average_reading_score,\n",
    "                    \"% Passing Math\" : passing_math_percentage,\n",
    "                   \"% Passing Reading\" : passing_reading_percentage,\n",
    "                   \"% Overall Passing\" : overall_passing_rate}\n",
    "\n",
    "# Formatting\n",
    "#district_summary[\"Total Students\"] = district_summary[\"Total Students\"].map(\"{:,}\".format)\n",
    "#district_summary[\"Total Budget\"] = district_summary[\"Total Budget\"].map(\"${:,.2f}\".format)\n",
    "district_summary_df = pd.DataFrame([district_summary])  \n",
    "# Display the DataFrame\n",
    "district_summary_df"
   ]
  },
  {
   "cell_type": "code",
   "execution_count": 12,
   "id": "57929e49",
   "metadata": {},
   "outputs": [
    {
     "data": {
      "text/plain": [
       "array(['District', 'Charter'], dtype=object)"
      ]
     },
     "execution_count": 12,
     "metadata": {},
     "output_type": "execute_result"
    }
   ],
   "source": [
    "# Use the code provided to select all of the school types\n",
    "school_type = school_data_complete[\"type\"].unique()\n",
    "school_type\n",
    "\n"
   ]
  },
  {
   "cell_type": "code",
   "execution_count": 30,
   "id": "f07c569c",
   "metadata": {},
   "outputs": [
    {
     "data": {
      "text/plain": [
       "Bailey High School       4976\n",
       "Johnson High School      4761\n",
       "Hernandez High School    4635\n",
       "Rodriguez High School    3999\n",
       "Figueroa High School     2949\n",
       "Huang High School        2917\n",
       "Ford High School         2739\n",
       "Wilson High School       2283\n",
       "Cabrera High School      1858\n",
       "Wright High School       1800\n",
       "Shelton High School      1761\n",
       "Thomas High School       1635\n",
       "Griffin High School      1468\n",
       "Pena High School          962\n",
       "Holden High School        427\n",
       "Name: school_name, dtype: int64"
      ]
     },
     "execution_count": 30,
     "metadata": {},
     "output_type": "execute_result"
    }
   ],
   "source": [
    "school_types = school_data_complete[\"school_name\"].value_counts()\n",
    "school_types.head(15)"
   ]
  },
  {
   "cell_type": "code",
   "execution_count": 67,
   "id": "927db21f",
   "metadata": {},
   "outputs": [],
   "source": [
    "#grouped_school_name = school_data_complete.groupby([\"school_name\"])\n",
    "#print(grouped_school_name)\n",
    "#grouped_school_name.count().head(15)"
   ]
  },
  {
   "cell_type": "code",
   "execution_count": 68,
   "id": "4f10bd8c",
   "metadata": {},
   "outputs": [
    {
     "name": "stdout",
     "output_type": "stream",
     "text": [
      "                       student_name\n",
      "school_name                        \n",
      "Bailey High School             4976\n",
      "Cabrera High School            1858\n",
      "Figueroa High School           2949\n",
      "Ford High School               2739\n",
      "Griffin High School            1468\n",
      "Hernandez High School          4635\n",
      "Holden High School              427\n",
      "Huang High School              2917\n",
      "Johnson High School            4761\n",
      "Pena High School                962\n",
      "Rodriguez High School          3999\n",
      "Shelton High School            1761\n",
      "Thomas High School             1635\n",
      "Wilson High School             2283\n",
      "Wright High School             1800\n"
     ]
    }
   ],
   "source": [
    "# Calculate the total student count per school\n",
    "per_school_counts = school_data_complete [[\"student_name\"]].count()\n",
    "print(per_school_counts)"
   ]
  },
  {
   "cell_type": "code",
   "execution_count": 33,
   "id": "904a6cdd",
   "metadata": {},
   "outputs": [
    {
     "name": "stdout",
     "output_type": "stream",
     "text": [
      "                            budget\n",
      "school_name                       \n",
      "Bailey High School     15549641728\n",
      "Cabrera High School     2009159448\n",
      "Figueroa High School    5557128039\n",
      "Ford High School        4831365924\n",
      "Griffin High School     1346890000\n",
      "Hernandez High School  14007062700\n",
      "Holden High School       105933149\n",
      "Huang High School       5573322295\n",
      "Johnson High School    14733628650\n",
      "Pena High School         563595396\n",
      "Rodriguez High School  10186904637\n",
      "Shelton High School     1860672600\n",
      "Thomas High School      1705517550\n",
      "Wilson High School      3012587442\n",
      "Wright High School      1888920000\n"
     ]
    }
   ],
   "source": [
    "# Calculate the total school budget spending per school\n",
    "per_school_budget = grouped_school_name [[\"budget\"]].sum()\n",
    "print(per_school_budget)"
   ]
  },
  {
   "cell_type": "code",
   "execution_count": 41,
   "id": "176bc255",
   "metadata": {},
   "outputs": [
    {
     "name": "stdout",
     "output_type": "stream",
     "text": [
      "school_name\n",
      "Bailey High School       3124928.0\n",
      "Cabrera High School      1081356.0\n",
      "Figueroa High School     1884411.0\n",
      "Ford High School         1763916.0\n",
      "Griffin High School       917500.0\n",
      "Hernandez High School    3022020.0\n",
      "Holden High School        248087.0\n",
      "Huang High School        1910635.0\n",
      "Johnson High School      3094650.0\n",
      "Pena High School          585858.0\n",
      "Rodriguez High School    2547363.0\n",
      "Shelton High School      1056600.0\n",
      "Thomas High School       1043130.0\n",
      "Wilson High School       1319574.0\n",
      "Wright High School       1049400.0\n",
      "dtype: float64\n"
     ]
    }
   ],
   "source": [
    "# Calculate the total per capita spending per school\n",
    "per_school_capita = per_school_budget[\"budget\"]/per_school_counts[\"student_name\"]\n",
    "\n",
    "print(per_school_capita)"
   ]
  },
  {
   "cell_type": "code",
   "execution_count": null,
   "id": "1768a189",
   "metadata": {},
   "outputs": [],
   "source": [
    "\n"
   ]
  },
  {
   "cell_type": "code",
   "execution_count": 18,
   "id": "18930c40",
   "metadata": {},
   "outputs": [
    {
     "data": {
      "text/html": [
       "<div>\n",
       "<style scoped>\n",
       "    .dataframe tbody tr th:only-of-type {\n",
       "        vertical-align: middle;\n",
       "    }\n",
       "\n",
       "    .dataframe tbody tr th {\n",
       "        vertical-align: top;\n",
       "    }\n",
       "\n",
       "    .dataframe thead th {\n",
       "        text-align: right;\n",
       "    }\n",
       "</style>\n",
       "<table border=\"1\" class=\"dataframe\">\n",
       "  <thead>\n",
       "    <tr style=\"text-align: right;\">\n",
       "      <th></th>\n",
       "      <th>math_score</th>\n",
       "    </tr>\n",
       "    <tr>\n",
       "      <th>school_name</th>\n",
       "      <th></th>\n",
       "    </tr>\n",
       "  </thead>\n",
       "  <tbody>\n",
       "    <tr>\n",
       "      <th>Bailey High School</th>\n",
       "      <td>77.048432</td>\n",
       "    </tr>\n",
       "    <tr>\n",
       "      <th>Cabrera High School</th>\n",
       "      <td>83.061895</td>\n",
       "    </tr>\n",
       "    <tr>\n",
       "      <th>Figueroa High School</th>\n",
       "      <td>76.711767</td>\n",
       "    </tr>\n",
       "    <tr>\n",
       "      <th>Ford High School</th>\n",
       "      <td>77.102592</td>\n",
       "    </tr>\n",
       "    <tr>\n",
       "      <th>Griffin High School</th>\n",
       "      <td>83.351499</td>\n",
       "    </tr>\n",
       "    <tr>\n",
       "      <th>Hernandez High School</th>\n",
       "      <td>77.289752</td>\n",
       "    </tr>\n",
       "    <tr>\n",
       "      <th>Holden High School</th>\n",
       "      <td>83.803279</td>\n",
       "    </tr>\n",
       "    <tr>\n",
       "      <th>Huang High School</th>\n",
       "      <td>76.629414</td>\n",
       "    </tr>\n",
       "    <tr>\n",
       "      <th>Johnson High School</th>\n",
       "      <td>77.072464</td>\n",
       "    </tr>\n",
       "    <tr>\n",
       "      <th>Pena High School</th>\n",
       "      <td>83.839917</td>\n",
       "    </tr>\n",
       "    <tr>\n",
       "      <th>Rodriguez High School</th>\n",
       "      <td>76.842711</td>\n",
       "    </tr>\n",
       "    <tr>\n",
       "      <th>Shelton High School</th>\n",
       "      <td>83.359455</td>\n",
       "    </tr>\n",
       "    <tr>\n",
       "      <th>Thomas High School</th>\n",
       "      <td>83.418349</td>\n",
       "    </tr>\n",
       "    <tr>\n",
       "      <th>Wilson High School</th>\n",
       "      <td>83.274201</td>\n",
       "    </tr>\n",
       "    <tr>\n",
       "      <th>Wright High School</th>\n",
       "      <td>83.682222</td>\n",
       "    </tr>\n",
       "  </tbody>\n",
       "</table>\n",
       "</div>"
      ],
      "text/plain": [
       "                       math_score\n",
       "school_name                      \n",
       "Bailey High School      77.048432\n",
       "Cabrera High School     83.061895\n",
       "Figueroa High School    76.711767\n",
       "Ford High School        77.102592\n",
       "Griffin High School     83.351499\n",
       "Hernandez High School   77.289752\n",
       "Holden High School      83.803279\n",
       "Huang High School       76.629414\n",
       "Johnson High School     77.072464\n",
       "Pena High School        83.839917\n",
       "Rodriguez High School   76.842711\n",
       "Shelton High School     83.359455\n",
       "Thomas High School      83.418349\n",
       "Wilson High School      83.274201\n",
       "Wright High School      83.682222"
      ]
     },
     "execution_count": 18,
     "metadata": {},
     "output_type": "execute_result"
    }
   ],
   "source": [
    "# Calculate the average test scores per school\n",
    "per_school_math = school_data_complete[[\"school_name\",\"math_score\"]]\n",
    "per_school_math.groupby([\"school_name\"]).mean().head(15)\n"
   ]
  },
  {
   "cell_type": "code",
   "execution_count": 19,
   "id": "1f917335",
   "metadata": {},
   "outputs": [
    {
     "data": {
      "text/html": [
       "<div>\n",
       "<style scoped>\n",
       "    .dataframe tbody tr th:only-of-type {\n",
       "        vertical-align: middle;\n",
       "    }\n",
       "\n",
       "    .dataframe tbody tr th {\n",
       "        vertical-align: top;\n",
       "    }\n",
       "\n",
       "    .dataframe thead th {\n",
       "        text-align: right;\n",
       "    }\n",
       "</style>\n",
       "<table border=\"1\" class=\"dataframe\">\n",
       "  <thead>\n",
       "    <tr style=\"text-align: right;\">\n",
       "      <th></th>\n",
       "      <th>reading_score</th>\n",
       "    </tr>\n",
       "    <tr>\n",
       "      <th>school_name</th>\n",
       "      <th></th>\n",
       "    </tr>\n",
       "  </thead>\n",
       "  <tbody>\n",
       "    <tr>\n",
       "      <th>Bailey High School</th>\n",
       "      <td>81.033963</td>\n",
       "    </tr>\n",
       "    <tr>\n",
       "      <th>Cabrera High School</th>\n",
       "      <td>83.975780</td>\n",
       "    </tr>\n",
       "    <tr>\n",
       "      <th>Figueroa High School</th>\n",
       "      <td>81.158020</td>\n",
       "    </tr>\n",
       "    <tr>\n",
       "      <th>Ford High School</th>\n",
       "      <td>80.746258</td>\n",
       "    </tr>\n",
       "    <tr>\n",
       "      <th>Griffin High School</th>\n",
       "      <td>83.816757</td>\n",
       "    </tr>\n",
       "    <tr>\n",
       "      <th>Hernandez High School</th>\n",
       "      <td>80.934412</td>\n",
       "    </tr>\n",
       "    <tr>\n",
       "      <th>Holden High School</th>\n",
       "      <td>83.814988</td>\n",
       "    </tr>\n",
       "    <tr>\n",
       "      <th>Huang High School</th>\n",
       "      <td>81.182722</td>\n",
       "    </tr>\n",
       "    <tr>\n",
       "      <th>Johnson High School</th>\n",
       "      <td>80.966394</td>\n",
       "    </tr>\n",
       "    <tr>\n",
       "      <th>Pena High School</th>\n",
       "      <td>84.044699</td>\n",
       "    </tr>\n",
       "    <tr>\n",
       "      <th>Rodriguez High School</th>\n",
       "      <td>80.744686</td>\n",
       "    </tr>\n",
       "    <tr>\n",
       "      <th>Shelton High School</th>\n",
       "      <td>83.725724</td>\n",
       "    </tr>\n",
       "    <tr>\n",
       "      <th>Thomas High School</th>\n",
       "      <td>83.848930</td>\n",
       "    </tr>\n",
       "    <tr>\n",
       "      <th>Wilson High School</th>\n",
       "      <td>83.989488</td>\n",
       "    </tr>\n",
       "    <tr>\n",
       "      <th>Wright High School</th>\n",
       "      <td>83.955000</td>\n",
       "    </tr>\n",
       "  </tbody>\n",
       "</table>\n",
       "</div>"
      ],
      "text/plain": [
       "                       reading_score\n",
       "school_name                         \n",
       "Bailey High School         81.033963\n",
       "Cabrera High School        83.975780\n",
       "Figueroa High School       81.158020\n",
       "Ford High School           80.746258\n",
       "Griffin High School        83.816757\n",
       "Hernandez High School      80.934412\n",
       "Holden High School         83.814988\n",
       "Huang High School          81.182722\n",
       "Johnson High School        80.966394\n",
       "Pena High School           84.044699\n",
       "Rodriguez High School      80.744686\n",
       "Shelton High School        83.725724\n",
       "Thomas High School         83.848930\n",
       "Wilson High School         83.989488\n",
       "Wright High School         83.955000"
      ]
     },
     "execution_count": 19,
     "metadata": {},
     "output_type": "execute_result"
    }
   ],
   "source": [
    "per_school_reading = school_data_complete[[\"school_name\",\"reading_score\"]]\n",
    "per_school_reading.groupby([\"school_name\"]).mean().head(15)\n"
   ]
  },
  {
   "cell_type": "code",
   "execution_count": 42,
   "id": "a6d50ad8",
   "metadata": {},
   "outputs": [
    {
     "name": "stdout",
     "output_type": "stream",
     "text": [
      "school_name\n",
      "Bailey High School       3318\n",
      "Cabrera High School      1749\n",
      "Figueroa High School     1946\n",
      "Ford High School         1871\n",
      "Griffin High School      1371\n",
      "Hernandez High School    3094\n",
      "Holden High School        395\n",
      "Huang High School        1916\n",
      "Johnson High School      3145\n",
      "Pena High School          910\n",
      "Rodriguez High School    2654\n",
      "Shelton High School      1653\n",
      "Thomas High School       1525\n",
      "Wilson High School       2143\n",
      "Wright High School       1680\n",
      "dtype: int64\n"
     ]
    }
   ],
   "source": [
    "# Calculate the number of students per school with math scores of 70 or higher\n",
    "students_passing_math = school_data_complete[\n",
    "    (school_data_complete[\"math_score\"] >= 70)]\n",
    "school_students_passing_math = students_passing_math.groupby([\"school_name\"]).size()\n",
    "print(school_students_passing_math)"
   ]
  },
  {
   "cell_type": "code",
   "execution_count": 47,
   "id": "b9ab47ec",
   "metadata": {},
   "outputs": [
    {
     "data": {
      "text/plain": [
       "school_name\n",
       "Bailey High School       4077\n",
       "Cabrera High School      1803\n",
       "Figueroa High School     2381\n",
       "Ford High School         2172\n",
       "Griffin High School      1426\n",
       "Hernandez High School    3748\n",
       "Holden High School        411\n",
       "Huang High School        2372\n",
       "Johnson High School      3867\n",
       "Pena High School          923\n",
       "Rodriguez High School    3208\n",
       "Shelton High School      1688\n",
       "Thomas High School       1591\n",
       "Wilson High School       2204\n",
       "Wright High School       1739\n",
       "dtype: int64"
      ]
     },
     "execution_count": 47,
     "metadata": {},
     "output_type": "execute_result"
    }
   ],
   "source": [
    "# Calculate the number of students per school with reading scores of 70 or higher\n",
    "students_passing_reading = school_data_complete[\n",
    "    (school_data_complete[\"reading_score\"] >= 70)]\n",
    "school_students_passing_reading = students_passing_reading.groupby([\"school_name\"]).size()\n",
    "school_students_passing_reading.head(15)\n"
   ]
  },
  {
   "cell_type": "code",
   "execution_count": 50,
   "id": "04163319",
   "metadata": {},
   "outputs": [
    {
     "data": {
      "text/plain": [
       "school_name\n",
       "Bailey High School       2719\n",
       "Cabrera High School      1697\n",
       "Figueroa High School     1569\n",
       "Ford High School         1487\n",
       "Griffin High School      1330\n",
       "Hernandez High School    2481\n",
       "Holden High School        381\n",
       "Huang High School        1561\n",
       "Johnson High School      2549\n",
       "Pena High School          871\n",
       "Rodriguez High School    2119\n",
       "Shelton High School      1583\n",
       "Thomas High School       1487\n",
       "Wilson High School       2068\n",
       "Wright High School       1626\n",
       "dtype: int64"
      ]
     },
     "execution_count": 50,
     "metadata": {},
     "output_type": "execute_result"
    }
   ],
   "source": [
    "# Use the provided code to calculate the number of students per school that passed both math and reading with scores of 70 or higher\n",
    "students_passing_math_and_reading = school_data_complete[\n",
    "    (school_data_complete[\"reading_score\"] >= 70) & (school_data_complete[\"math_score\"] >= 70)]\n",
    "school_students_passing_math_and_reading = students_passing_math_and_reading.groupby([\"school_name\"]).size()\n",
    "school_students_passing_math_and_reading.head(15)"
   ]
  },
  {
   "cell_type": "code",
   "execution_count": 82,
   "id": "2827ac4f",
   "metadata": {},
   "outputs": [
    {
     "name": "stdout",
     "output_type": "stream",
     "text": [
      "                       Bailey High School  Cabrera High School  \\\n",
      "school_name                                                      \n",
      "Bailey High School                    NaN                  NaN   \n",
      "Cabrera High School                   NaN                  NaN   \n",
      "Figueroa High School                  NaN                  NaN   \n",
      "Ford High School                      NaN                  NaN   \n",
      "Griffin High School                   NaN                  NaN   \n",
      "Hernandez High School                 NaN                  NaN   \n",
      "Holden High School                    NaN                  NaN   \n",
      "Huang High School                     NaN                  NaN   \n",
      "Johnson High School                   NaN                  NaN   \n",
      "Pena High School                      NaN                  NaN   \n",
      "Rodriguez High School                 NaN                  NaN   \n",
      "Shelton High School                   NaN                  NaN   \n",
      "Thomas High School                    NaN                  NaN   \n",
      "Wilson High School                    NaN                  NaN   \n",
      "Wright High School                    NaN                  NaN   \n",
      "\n",
      "                       Figueroa High School  Ford High School  \\\n",
      "school_name                                                     \n",
      "Bailey High School                      NaN               NaN   \n",
      "Cabrera High School                     NaN               NaN   \n",
      "Figueroa High School                    NaN               NaN   \n",
      "Ford High School                        NaN               NaN   \n",
      "Griffin High School                     NaN               NaN   \n",
      "Hernandez High School                   NaN               NaN   \n",
      "Holden High School                      NaN               NaN   \n",
      "Huang High School                       NaN               NaN   \n",
      "Johnson High School                     NaN               NaN   \n",
      "Pena High School                        NaN               NaN   \n",
      "Rodriguez High School                   NaN               NaN   \n",
      "Shelton High School                     NaN               NaN   \n",
      "Thomas High School                      NaN               NaN   \n",
      "Wilson High School                      NaN               NaN   \n",
      "Wright High School                      NaN               NaN   \n",
      "\n",
      "                       Griffin High School  Hernandez High School  \\\n",
      "school_name                                                         \n",
      "Bailey High School                     NaN                    NaN   \n",
      "Cabrera High School                    NaN                    NaN   \n",
      "Figueroa High School                   NaN                    NaN   \n",
      "Ford High School                       NaN                    NaN   \n",
      "Griffin High School                    NaN                    NaN   \n",
      "Hernandez High School                  NaN                    NaN   \n",
      "Holden High School                     NaN                    NaN   \n",
      "Huang High School                      NaN                    NaN   \n",
      "Johnson High School                    NaN                    NaN   \n",
      "Pena High School                       NaN                    NaN   \n",
      "Rodriguez High School                  NaN                    NaN   \n",
      "Shelton High School                    NaN                    NaN   \n",
      "Thomas High School                     NaN                    NaN   \n",
      "Wilson High School                     NaN                    NaN   \n",
      "Wright High School                     NaN                    NaN   \n",
      "\n",
      "                       Holden High School  Huang High School  \\\n",
      "school_name                                                    \n",
      "Bailey High School                    NaN                NaN   \n",
      "Cabrera High School                   NaN                NaN   \n",
      "Figueroa High School                  NaN                NaN   \n",
      "Ford High School                      NaN                NaN   \n",
      "Griffin High School                   NaN                NaN   \n",
      "Hernandez High School                 NaN                NaN   \n",
      "Holden High School                    NaN                NaN   \n",
      "Huang High School                     NaN                NaN   \n",
      "Johnson High School                   NaN                NaN   \n",
      "Pena High School                      NaN                NaN   \n",
      "Rodriguez High School                 NaN                NaN   \n",
      "Shelton High School                   NaN                NaN   \n",
      "Thomas High School                    NaN                NaN   \n",
      "Wilson High School                    NaN                NaN   \n",
      "Wright High School                    NaN                NaN   \n",
      "\n",
      "                       Johnson High School  Pena High School  \\\n",
      "school_name                                                    \n",
      "Bailey High School                     NaN               NaN   \n",
      "Cabrera High School                    NaN               NaN   \n",
      "Figueroa High School                   NaN               NaN   \n",
      "Ford High School                       NaN               NaN   \n",
      "Griffin High School                    NaN               NaN   \n",
      "Hernandez High School                  NaN               NaN   \n",
      "Holden High School                     NaN               NaN   \n",
      "Huang High School                      NaN               NaN   \n",
      "Johnson High School                    NaN               NaN   \n",
      "Pena High School                       NaN               NaN   \n",
      "Rodriguez High School                  NaN               NaN   \n",
      "Shelton High School                    NaN               NaN   \n",
      "Thomas High School                     NaN               NaN   \n",
      "Wilson High School                     NaN               NaN   \n",
      "Wright High School                     NaN               NaN   \n",
      "\n",
      "                       Rodriguez High School  Shelton High School  \\\n",
      "school_name                                                         \n",
      "Bailey High School                       NaN                  NaN   \n",
      "Cabrera High School                      NaN                  NaN   \n",
      "Figueroa High School                     NaN                  NaN   \n",
      "Ford High School                         NaN                  NaN   \n",
      "Griffin High School                      NaN                  NaN   \n",
      "Hernandez High School                    NaN                  NaN   \n",
      "Holden High School                       NaN                  NaN   \n",
      "Huang High School                        NaN                  NaN   \n",
      "Johnson High School                      NaN                  NaN   \n",
      "Pena High School                         NaN                  NaN   \n",
      "Rodriguez High School                    NaN                  NaN   \n",
      "Shelton High School                      NaN                  NaN   \n",
      "Thomas High School                       NaN                  NaN   \n",
      "Wilson High School                       NaN                  NaN   \n",
      "Wright High School                       NaN                  NaN   \n",
      "\n",
      "                       Thomas High School  Wilson High School  \\\n",
      "school_name                                                     \n",
      "Bailey High School                    NaN                 NaN   \n",
      "Cabrera High School                   NaN                 NaN   \n",
      "Figueroa High School                  NaN                 NaN   \n",
      "Ford High School                      NaN                 NaN   \n",
      "Griffin High School                   NaN                 NaN   \n",
      "Hernandez High School                 NaN                 NaN   \n",
      "Holden High School                    NaN                 NaN   \n",
      "Huang High School                     NaN                 NaN   \n",
      "Johnson High School                   NaN                 NaN   \n",
      "Pena High School                      NaN                 NaN   \n",
      "Rodriguez High School                 NaN                 NaN   \n",
      "Shelton High School                   NaN                 NaN   \n",
      "Thomas High School                    NaN                 NaN   \n",
      "Wilson High School                    NaN                 NaN   \n",
      "Wright High School                    NaN                 NaN   \n",
      "\n",
      "                       Wright High School  student_name  \n",
      "school_name                                              \n",
      "Bailey High School                    NaN           NaN  \n",
      "Cabrera High School                   NaN           NaN  \n",
      "Figueroa High School                  NaN           NaN  \n",
      "Ford High School                      NaN           NaN  \n",
      "Griffin High School                   NaN           NaN  \n",
      "Hernandez High School                 NaN           NaN  \n",
      "Holden High School                    NaN           NaN  \n",
      "Huang High School                     NaN           NaN  \n",
      "Johnson High School                   NaN           NaN  \n",
      "Pena High School                      NaN           NaN  \n",
      "Rodriguez High School                 NaN           NaN  \n",
      "Shelton High School                   NaN           NaN  \n",
      "Thomas High School                    NaN           NaN  \n",
      "Wilson High School                    NaN           NaN  \n",
      "Wright High School                    NaN           NaN  \n"
     ]
    }
   ],
   "source": [
    "# Use the provided code to calculate the passing rates\n",
    "per_school_passing_math = school_students_passing_math / per_school_counts * 100\n",
    "print(per_school_passing_math)"
   ]
  },
  {
   "cell_type": "code",
   "execution_count": 72,
   "id": "761d33f6",
   "metadata": {},
   "outputs": [
    {
     "name": "stdout",
     "output_type": "stream",
     "text": [
      "school_name\n",
      "Bailey High School       407700\n",
      "Cabrera High School      180300\n",
      "Figueroa High School     238100\n",
      "Ford High School         217200\n",
      "Griffin High School      142600\n",
      "Hernandez High School    374800\n",
      "Holden High School        41100\n",
      "Huang High School        237200\n",
      "Johnson High School      386700\n",
      "Pena High School          92300\n",
      "Rodriguez High School    320800\n",
      "Shelton High School      168800\n",
      "Thomas High School       159100\n",
      "Wilson High School       220400\n",
      "Wright High School       173900\n",
      "Name: reading_score, dtype: int64\n"
     ]
    }
   ],
   "source": [
    "per_school_passing_reading=students_passing_reading.groupby([\"school_name\"])[\"reading_score\"].count()*100\n",
    "print(per_school_passing_reading)"
   ]
  },
  {
   "cell_type": "code",
   "execution_count": 65,
   "id": "fc2ca557",
   "metadata": {},
   "outputs": [
    {
     "name": "stdout",
     "output_type": "stream",
     "text": [
      "                       Bailey High School  Cabrera High School  \\\n",
      "school_name                                                      \n",
      "Bailey High School                    NaN                  NaN   \n",
      "Cabrera High School                   NaN                  NaN   \n",
      "Figueroa High School                  NaN                  NaN   \n",
      "Ford High School                      NaN                  NaN   \n",
      "Griffin High School                   NaN                  NaN   \n",
      "Hernandez High School                 NaN                  NaN   \n",
      "Holden High School                    NaN                  NaN   \n",
      "Huang High School                     NaN                  NaN   \n",
      "Johnson High School                   NaN                  NaN   \n",
      "Pena High School                      NaN                  NaN   \n",
      "Rodriguez High School                 NaN                  NaN   \n",
      "Shelton High School                   NaN                  NaN   \n",
      "Thomas High School                    NaN                  NaN   \n",
      "Wilson High School                    NaN                  NaN   \n",
      "Wright High School                    NaN                  NaN   \n",
      "\n",
      "                       Figueroa High School  Ford High School  \\\n",
      "school_name                                                     \n",
      "Bailey High School                      NaN               NaN   \n",
      "Cabrera High School                     NaN               NaN   \n",
      "Figueroa High School                    NaN               NaN   \n",
      "Ford High School                        NaN               NaN   \n",
      "Griffin High School                     NaN               NaN   \n",
      "Hernandez High School                   NaN               NaN   \n",
      "Holden High School                      NaN               NaN   \n",
      "Huang High School                       NaN               NaN   \n",
      "Johnson High School                     NaN               NaN   \n",
      "Pena High School                        NaN               NaN   \n",
      "Rodriguez High School                   NaN               NaN   \n",
      "Shelton High School                     NaN               NaN   \n",
      "Thomas High School                      NaN               NaN   \n",
      "Wilson High School                      NaN               NaN   \n",
      "Wright High School                      NaN               NaN   \n",
      "\n",
      "                       Griffin High School  Hernandez High School  \\\n",
      "school_name                                                         \n",
      "Bailey High School                     NaN                    NaN   \n",
      "Cabrera High School                    NaN                    NaN   \n",
      "Figueroa High School                   NaN                    NaN   \n",
      "Ford High School                       NaN                    NaN   \n",
      "Griffin High School                    NaN                    NaN   \n",
      "Hernandez High School                  NaN                    NaN   \n",
      "Holden High School                     NaN                    NaN   \n",
      "Huang High School                      NaN                    NaN   \n",
      "Johnson High School                    NaN                    NaN   \n",
      "Pena High School                       NaN                    NaN   \n",
      "Rodriguez High School                  NaN                    NaN   \n",
      "Shelton High School                    NaN                    NaN   \n",
      "Thomas High School                     NaN                    NaN   \n",
      "Wilson High School                     NaN                    NaN   \n",
      "Wright High School                     NaN                    NaN   \n",
      "\n",
      "                       Holden High School  Huang High School  \\\n",
      "school_name                                                    \n",
      "Bailey High School                    NaN                NaN   \n",
      "Cabrera High School                   NaN                NaN   \n",
      "Figueroa High School                  NaN                NaN   \n",
      "Ford High School                      NaN                NaN   \n",
      "Griffin High School                   NaN                NaN   \n",
      "Hernandez High School                 NaN                NaN   \n",
      "Holden High School                    NaN                NaN   \n",
      "Huang High School                     NaN                NaN   \n",
      "Johnson High School                   NaN                NaN   \n",
      "Pena High School                      NaN                NaN   \n",
      "Rodriguez High School                 NaN                NaN   \n",
      "Shelton High School                   NaN                NaN   \n",
      "Thomas High School                    NaN                NaN   \n",
      "Wilson High School                    NaN                NaN   \n",
      "Wright High School                    NaN                NaN   \n",
      "\n",
      "                       Johnson High School  Pena High School  \\\n",
      "school_name                                                    \n",
      "Bailey High School                     NaN               NaN   \n",
      "Cabrera High School                    NaN               NaN   \n",
      "Figueroa High School                   NaN               NaN   \n",
      "Ford High School                       NaN               NaN   \n",
      "Griffin High School                    NaN               NaN   \n",
      "Hernandez High School                  NaN               NaN   \n",
      "Holden High School                     NaN               NaN   \n",
      "Huang High School                      NaN               NaN   \n",
      "Johnson High School                    NaN               NaN   \n",
      "Pena High School                       NaN               NaN   \n",
      "Rodriguez High School                  NaN               NaN   \n",
      "Shelton High School                    NaN               NaN   \n",
      "Thomas High School                     NaN               NaN   \n",
      "Wilson High School                     NaN               NaN   \n",
      "Wright High School                     NaN               NaN   \n",
      "\n",
      "                       Rodriguez High School  Shelton High School  \\\n",
      "school_name                                                         \n",
      "Bailey High School                       NaN                  NaN   \n",
      "Cabrera High School                      NaN                  NaN   \n",
      "Figueroa High School                     NaN                  NaN   \n",
      "Ford High School                         NaN                  NaN   \n",
      "Griffin High School                      NaN                  NaN   \n",
      "Hernandez High School                    NaN                  NaN   \n",
      "Holden High School                       NaN                  NaN   \n",
      "Huang High School                        NaN                  NaN   \n",
      "Johnson High School                      NaN                  NaN   \n",
      "Pena High School                         NaN                  NaN   \n",
      "Rodriguez High School                    NaN                  NaN   \n",
      "Shelton High School                      NaN                  NaN   \n",
      "Thomas High School                       NaN                  NaN   \n",
      "Wilson High School                       NaN                  NaN   \n",
      "Wright High School                       NaN                  NaN   \n",
      "\n",
      "                       Thomas High School  Wilson High School  \\\n",
      "school_name                                                     \n",
      "Bailey High School                    NaN                 NaN   \n",
      "Cabrera High School                   NaN                 NaN   \n",
      "Figueroa High School                  NaN                 NaN   \n",
      "Ford High School                      NaN                 NaN   \n",
      "Griffin High School                   NaN                 NaN   \n",
      "Hernandez High School                 NaN                 NaN   \n",
      "Holden High School                    NaN                 NaN   \n",
      "Huang High School                     NaN                 NaN   \n",
      "Johnson High School                   NaN                 NaN   \n",
      "Pena High School                      NaN                 NaN   \n",
      "Rodriguez High School                 NaN                 NaN   \n",
      "Shelton High School                   NaN                 NaN   \n",
      "Thomas High School                    NaN                 NaN   \n",
      "Wilson High School                    NaN                 NaN   \n",
      "Wright High School                    NaN                 NaN   \n",
      "\n",
      "                       Wright High School  student_name  \n",
      "school_name                                              \n",
      "Bailey High School                    NaN           NaN  \n",
      "Cabrera High School                   NaN           NaN  \n",
      "Figueroa High School                  NaN           NaN  \n",
      "Ford High School                      NaN           NaN  \n",
      "Griffin High School                   NaN           NaN  \n",
      "Hernandez High School                 NaN           NaN  \n",
      "Holden High School                    NaN           NaN  \n",
      "Huang High School                     NaN           NaN  \n",
      "Johnson High School                   NaN           NaN  \n",
      "Pena High School                      NaN           NaN  \n",
      "Rodriguez High School                 NaN           NaN  \n",
      "Shelton High School                   NaN           NaN  \n",
      "Thomas High School                    NaN           NaN  \n",
      "Wilson High School                    NaN           NaN  \n",
      "Wright High School                    NaN           NaN  \n"
     ]
    }
   ],
   "source": [
    "overall_passing_rate = school_students_passing_math_and_reading / per_school_counts * 100\n",
    "print(overall_passing_rate)"
   ]
  },
  {
   "cell_type": "code",
   "execution_count": 66,
   "id": "a060baf2",
   "metadata": {},
   "outputs": [
    {
     "ename": "SyntaxError",
     "evalue": "invalid syntax (2536131374.py, line 2)",
     "output_type": "error",
     "traceback": [
      "\u001b[1;36m  Cell \u001b[1;32mIn[66], line 2\u001b[1;36m\u001b[0m\n\u001b[1;33m    per_school_summary =\u001b[0m\n\u001b[1;37m                         ^\u001b[0m\n\u001b[1;31mSyntaxError\u001b[0m\u001b[1;31m:\u001b[0m invalid syntax\n"
     ]
    }
   ],
   "source": [
    "# Create a DataFrame called `per_school_summary` with columns for the calculations above.\n",
    "per_school_summary = \n",
    "\n",
    "# Formatting\n",
    "per_school_summary[\"Total School Budget\"] = per_school_summary[\"Total School Budget\"].map(\"${:,.2f}\".format)\n",
    "per_school_summary[\"Per Student Budget\"] = per_school_summary[\"Per Student Budget\"].map(\"${:,.2f}\".format)\n",
    "\n",
    "# Display the DataFrame\n",
    "per_school_summary"
   ]
  },
  {
   "cell_type": "code",
   "execution_count": null,
   "id": "8aeef1c9",
   "metadata": {},
   "outputs": [],
   "source": []
  }
 ],
 "metadata": {
  "kernelspec": {
   "display_name": "Python 3 (ipykernel)",
   "language": "python",
   "name": "python3"
  },
  "language_info": {
   "codemirror_mode": {
    "name": "ipython",
    "version": 3
   },
   "file_extension": ".py",
   "mimetype": "text/x-python",
   "name": "python",
   "nbconvert_exporter": "python",
   "pygments_lexer": "ipython3",
   "version": "3.10.11"
  }
 },
 "nbformat": 4,
 "nbformat_minor": 5
}
